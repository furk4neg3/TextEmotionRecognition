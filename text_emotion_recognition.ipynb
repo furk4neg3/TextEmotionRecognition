{
  "nbformat": 4,
  "nbformat_minor": 0,
  "metadata": {
    "colab": {
      "provenance": [],
      "machine_shape": "hm",
      "gpuType": "V28",
      "authorship_tag": "ABX9TyNDWBD6rBsSCkr94mxhiJwP",
      "include_colab_link": true
    },
    "kernelspec": {
      "name": "python3",
      "display_name": "Python 3"
    },
    "language_info": {
      "name": "python"
    },
    "accelerator": "TPU"
  },
  "cells": [
    {
      "cell_type": "markdown",
      "metadata": {
        "id": "view-in-github",
        "colab_type": "text"
      },
      "source": [
        "<a href=\"https://colab.research.google.com/github/furk4neg3/text_emotion_recognition/blob/main/text_emotion_recognition.ipynb\" target=\"_parent\"><img src=\"https://colab.research.google.com/assets/colab-badge.svg\" alt=\"Open In Colab\"/></a>"
      ]
    },
    {
      "cell_type": "markdown",
      "source": [
        "# Text - Emotion Recognition\n",
        "✅In this notebook, I've created  AI models that takes text as an input, and predicts the emotion that shown on this text. I've used created 6 models for this. First is baseline model, second is a simple deep learning model, then I've started using RNN. Third model is LSTM, fourth is GRU, fifth is Bidirectional LSTM. And in the last model, I've used transfer learning, embedding layer of this model is Universal Sentence Encoder.\n",
        "\n",
        "✅Data preparing and preprocessing is all done by me. Dataset is from Kaggle."
      ],
      "metadata": {
        "id": "e5Eax9-vS5TF"
      }
    },
    {
      "cell_type": "markdown",
      "source": [
        "## Taking and preparing data"
      ],
      "metadata": {
        "id": "wuDEqszPTCSR"
      }
    },
    {
      "cell_type": "code",
      "execution_count": 2,
      "metadata": {
        "id": "ahKuwK5K1NXX"
      },
      "outputs": [],
      "source": [
        "# Preparing the notebook to be able to load the dataset\n",
        "! pip install -q kaggle"
      ]
    },
    {
      "cell_type": "code",
      "source": [
        "from google.colab import files\n",
        "files.upload()# I've expired the key before uploading the project to GitHub"
      ],
      "metadata": {
        "colab": {
          "base_uri": "https://localhost:8080/",
          "height": 92
        },
        "id": "LroJGcNJDjfZ",
        "outputId": "b681586e-ae69-4586-c63e-916f3f591e75"
      },
      "execution_count": 3,
      "outputs": [
        {
          "output_type": "display_data",
          "data": {
            "text/plain": [
              "<IPython.core.display.HTML object>"
            ],
            "text/html": [
              "\n",
              "     <input type=\"file\" id=\"files-808f7455-d209-4eaf-bea7-23509dc22340\" name=\"files[]\" multiple disabled\n",
              "        style=\"border:none\" />\n",
              "     <output id=\"result-808f7455-d209-4eaf-bea7-23509dc22340\">\n",
              "      Upload widget is only available when the cell has been executed in the\n",
              "      current browser session. Please rerun this cell to enable.\n",
              "      </output>\n",
              "      <script>// Copyright 2017 Google LLC\n",
              "//\n",
              "// Licensed under the Apache License, Version 2.0 (the \"License\");\n",
              "// you may not use this file except in compliance with the License.\n",
              "// You may obtain a copy of the License at\n",
              "//\n",
              "//      http://www.apache.org/licenses/LICENSE-2.0\n",
              "//\n",
              "// Unless required by applicable law or agreed to in writing, software\n",
              "// distributed under the License is distributed on an \"AS IS\" BASIS,\n",
              "// WITHOUT WARRANTIES OR CONDITIONS OF ANY KIND, either express or implied.\n",
              "// See the License for the specific language governing permissions and\n",
              "// limitations under the License.\n",
              "\n",
              "/**\n",
              " * @fileoverview Helpers for google.colab Python module.\n",
              " */\n",
              "(function(scope) {\n",
              "function span(text, styleAttributes = {}) {\n",
              "  const element = document.createElement('span');\n",
              "  element.textContent = text;\n",
              "  for (const key of Object.keys(styleAttributes)) {\n",
              "    element.style[key] = styleAttributes[key];\n",
              "  }\n",
              "  return element;\n",
              "}\n",
              "\n",
              "// Max number of bytes which will be uploaded at a time.\n",
              "const MAX_PAYLOAD_SIZE = 100 * 1024;\n",
              "\n",
              "function _uploadFiles(inputId, outputId) {\n",
              "  const steps = uploadFilesStep(inputId, outputId);\n",
              "  const outputElement = document.getElementById(outputId);\n",
              "  // Cache steps on the outputElement to make it available for the next call\n",
              "  // to uploadFilesContinue from Python.\n",
              "  outputElement.steps = steps;\n",
              "\n",
              "  return _uploadFilesContinue(outputId);\n",
              "}\n",
              "\n",
              "// This is roughly an async generator (not supported in the browser yet),\n",
              "// where there are multiple asynchronous steps and the Python side is going\n",
              "// to poll for completion of each step.\n",
              "// This uses a Promise to block the python side on completion of each step,\n",
              "// then passes the result of the previous step as the input to the next step.\n",
              "function _uploadFilesContinue(outputId) {\n",
              "  const outputElement = document.getElementById(outputId);\n",
              "  const steps = outputElement.steps;\n",
              "\n",
              "  const next = steps.next(outputElement.lastPromiseValue);\n",
              "  return Promise.resolve(next.value.promise).then((value) => {\n",
              "    // Cache the last promise value to make it available to the next\n",
              "    // step of the generator.\n",
              "    outputElement.lastPromiseValue = value;\n",
              "    return next.value.response;\n",
              "  });\n",
              "}\n",
              "\n",
              "/**\n",
              " * Generator function which is called between each async step of the upload\n",
              " * process.\n",
              " * @param {string} inputId Element ID of the input file picker element.\n",
              " * @param {string} outputId Element ID of the output display.\n",
              " * @return {!Iterable<!Object>} Iterable of next steps.\n",
              " */\n",
              "function* uploadFilesStep(inputId, outputId) {\n",
              "  const inputElement = document.getElementById(inputId);\n",
              "  inputElement.disabled = false;\n",
              "\n",
              "  const outputElement = document.getElementById(outputId);\n",
              "  outputElement.innerHTML = '';\n",
              "\n",
              "  const pickedPromise = new Promise((resolve) => {\n",
              "    inputElement.addEventListener('change', (e) => {\n",
              "      resolve(e.target.files);\n",
              "    });\n",
              "  });\n",
              "\n",
              "  const cancel = document.createElement('button');\n",
              "  inputElement.parentElement.appendChild(cancel);\n",
              "  cancel.textContent = 'Cancel upload';\n",
              "  const cancelPromise = new Promise((resolve) => {\n",
              "    cancel.onclick = () => {\n",
              "      resolve(null);\n",
              "    };\n",
              "  });\n",
              "\n",
              "  // Wait for the user to pick the files.\n",
              "  const files = yield {\n",
              "    promise: Promise.race([pickedPromise, cancelPromise]),\n",
              "    response: {\n",
              "      action: 'starting',\n",
              "    }\n",
              "  };\n",
              "\n",
              "  cancel.remove();\n",
              "\n",
              "  // Disable the input element since further picks are not allowed.\n",
              "  inputElement.disabled = true;\n",
              "\n",
              "  if (!files) {\n",
              "    return {\n",
              "      response: {\n",
              "        action: 'complete',\n",
              "      }\n",
              "    };\n",
              "  }\n",
              "\n",
              "  for (const file of files) {\n",
              "    const li = document.createElement('li');\n",
              "    li.append(span(file.name, {fontWeight: 'bold'}));\n",
              "    li.append(span(\n",
              "        `(${file.type || 'n/a'}) - ${file.size} bytes, ` +\n",
              "        `last modified: ${\n",
              "            file.lastModifiedDate ? file.lastModifiedDate.toLocaleDateString() :\n",
              "                                    'n/a'} - `));\n",
              "    const percent = span('0% done');\n",
              "    li.appendChild(percent);\n",
              "\n",
              "    outputElement.appendChild(li);\n",
              "\n",
              "    const fileDataPromise = new Promise((resolve) => {\n",
              "      const reader = new FileReader();\n",
              "      reader.onload = (e) => {\n",
              "        resolve(e.target.result);\n",
              "      };\n",
              "      reader.readAsArrayBuffer(file);\n",
              "    });\n",
              "    // Wait for the data to be ready.\n",
              "    let fileData = yield {\n",
              "      promise: fileDataPromise,\n",
              "      response: {\n",
              "        action: 'continue',\n",
              "      }\n",
              "    };\n",
              "\n",
              "    // Use a chunked sending to avoid message size limits. See b/62115660.\n",
              "    let position = 0;\n",
              "    do {\n",
              "      const length = Math.min(fileData.byteLength - position, MAX_PAYLOAD_SIZE);\n",
              "      const chunk = new Uint8Array(fileData, position, length);\n",
              "      position += length;\n",
              "\n",
              "      const base64 = btoa(String.fromCharCode.apply(null, chunk));\n",
              "      yield {\n",
              "        response: {\n",
              "          action: 'append',\n",
              "          file: file.name,\n",
              "          data: base64,\n",
              "        },\n",
              "      };\n",
              "\n",
              "      let percentDone = fileData.byteLength === 0 ?\n",
              "          100 :\n",
              "          Math.round((position / fileData.byteLength) * 100);\n",
              "      percent.textContent = `${percentDone}% done`;\n",
              "\n",
              "    } while (position < fileData.byteLength);\n",
              "  }\n",
              "\n",
              "  // All done.\n",
              "  yield {\n",
              "    response: {\n",
              "      action: 'complete',\n",
              "    }\n",
              "  };\n",
              "}\n",
              "\n",
              "scope.google = scope.google || {};\n",
              "scope.google.colab = scope.google.colab || {};\n",
              "scope.google.colab._files = {\n",
              "  _uploadFiles,\n",
              "  _uploadFilesContinue,\n",
              "};\n",
              "})(self);\n",
              "</script> "
            ]
          },
          "metadata": {}
        },
        {
          "output_type": "stream",
          "name": "stdout",
          "text": [
            "Saving kaggle (1).json to kaggle (1).json\n"
          ]
        },
        {
          "output_type": "execute_result",
          "data": {
            "text/plain": [
              "{'kaggle (1).json': b'{\"username\":\"furkanegecannizam\",\"key\":\"e9bc49a8350007b4f76376de9272a32b\"}'}"
            ]
          },
          "metadata": {},
          "execution_count": 3
        }
      ]
    },
    {
      "cell_type": "code",
      "source": [
        "! mkdir ~/.kaggle"
      ],
      "metadata": {
        "id": "rYjuz55mD5yo"
      },
      "execution_count": 4,
      "outputs": []
    },
    {
      "cell_type": "code",
      "source": [
        "! cp kaggle.json ~/.kaggle/"
      ],
      "metadata": {
        "colab": {
          "base_uri": "https://localhost:8080/"
        },
        "id": "tkJQiv2bD8-8",
        "outputId": "baa86927-e655-49d7-fbdd-b0a6a777f306"
      },
      "execution_count": 5,
      "outputs": [
        {
          "output_type": "stream",
          "name": "stdout",
          "text": [
            "cp: cannot stat 'kaggle.json': No such file or directory\n"
          ]
        }
      ]
    },
    {
      "cell_type": "code",
      "source": [
        "! chmod 600 ~/.kaggle/kaggle.json"
      ],
      "metadata": {
        "colab": {
          "base_uri": "https://localhost:8080/"
        },
        "id": "2yDb_SISD-lL",
        "outputId": "4b0cee83-f6bd-4c1b-c56a-bdc2ffac54ae"
      },
      "execution_count": 6,
      "outputs": [
        {
          "output_type": "stream",
          "name": "stdout",
          "text": [
            "chmod: cannot access '/root/.kaggle/kaggle.json': No such file or directory\n"
          ]
        }
      ]
    },
    {
      "cell_type": "code",
      "source": [
        "# Getting the dataset\n",
        "! kaggle datasets download -d simaanjali/emotion-analysis-based-on-text"
      ],
      "metadata": {
        "colab": {
          "base_uri": "https://localhost:8080/"
        },
        "id": "2TZjO5UIEACp",
        "outputId": "575467b6-18c0-4312-c98c-d76117b07e36"
      },
      "execution_count": 47,
      "outputs": [
        {
          "output_type": "stream",
          "name": "stdout",
          "text": [
            "Dataset URL: https://www.kaggle.com/datasets/simaanjali/emotion-analysis-based-on-text\n",
            "License(s): CC0-1.0\n",
            "Downloading emotion-analysis-based-on-text.zip to /content\n",
            " 66% 21.0M/31.9M [00:00<00:00, 103MB/s] \n",
            "100% 31.9M/31.9M [00:00<00:00, 109MB/s]\n"
          ]
        }
      ]
    },
    {
      "cell_type": "code",
      "source": [
        "! unzip /content/emotion-analysis-based-on-text.zip"
      ],
      "metadata": {
        "colab": {
          "base_uri": "https://localhost:8080/"
        },
        "id": "UsPhlnmIECo_",
        "outputId": "69db1138-98c7-4cf1-ef7c-6ac1c719c9ce"
      },
      "execution_count": 48,
      "outputs": [
        {
          "output_type": "stream",
          "name": "stdout",
          "text": [
            "Archive:  /content/emotion-analysis-based-on-text.zip\n",
            "  inflating: emotion_sentimen_dataset.csv  \n"
          ]
        }
      ]
    },
    {
      "cell_type": "code",
      "source": [
        "# Taking dataset in a dataframe\n",
        "import pandas as pd\n",
        "df = pd.read_csv('/content/emotion_sentimen_dataset.csv', encoding='utf-8')"
      ],
      "metadata": {
        "id": "6dH0IIowGwT9"
      },
      "execution_count": 50,
      "outputs": []
    },
    {
      "cell_type": "code",
      "source": [
        "# Some examples of the data\n",
        "df.head()"
      ],
      "metadata": {
        "colab": {
          "base_uri": "https://localhost:8080/",
          "height": 206
        },
        "id": "zIR9ha03mVxQ",
        "outputId": "012ccf42-7048-4baf-be5d-fc02e86c2000"
      },
      "execution_count": 51,
      "outputs": [
        {
          "output_type": "execute_result",
          "data": {
            "text/plain": [
              "   Unnamed: 0                                               text  Emotion\n",
              "0           0  i seriously hate one subject to death but now ...     hate\n",
              "1           1                 im so full of life i feel appalled  neutral\n",
              "2           2  i sit here to write i start to dig out my feel...  neutral\n",
              "3           3  ive been really angry with r and i feel like a...    anger\n",
              "4           4  i feel suspicious if there is no one outside l...  neutral"
            ],
            "text/html": [
              "\n",
              "  <div id=\"df-31965dc8-9d07-465e-94bb-ac78ea8a405b\" class=\"colab-df-container\">\n",
              "    <div>\n",
              "<style scoped>\n",
              "    .dataframe tbody tr th:only-of-type {\n",
              "        vertical-align: middle;\n",
              "    }\n",
              "\n",
              "    .dataframe tbody tr th {\n",
              "        vertical-align: top;\n",
              "    }\n",
              "\n",
              "    .dataframe thead th {\n",
              "        text-align: right;\n",
              "    }\n",
              "</style>\n",
              "<table border=\"1\" class=\"dataframe\">\n",
              "  <thead>\n",
              "    <tr style=\"text-align: right;\">\n",
              "      <th></th>\n",
              "      <th>Unnamed: 0</th>\n",
              "      <th>text</th>\n",
              "      <th>Emotion</th>\n",
              "    </tr>\n",
              "  </thead>\n",
              "  <tbody>\n",
              "    <tr>\n",
              "      <th>0</th>\n",
              "      <td>0</td>\n",
              "      <td>i seriously hate one subject to death but now ...</td>\n",
              "      <td>hate</td>\n",
              "    </tr>\n",
              "    <tr>\n",
              "      <th>1</th>\n",
              "      <td>1</td>\n",
              "      <td>im so full of life i feel appalled</td>\n",
              "      <td>neutral</td>\n",
              "    </tr>\n",
              "    <tr>\n",
              "      <th>2</th>\n",
              "      <td>2</td>\n",
              "      <td>i sit here to write i start to dig out my feel...</td>\n",
              "      <td>neutral</td>\n",
              "    </tr>\n",
              "    <tr>\n",
              "      <th>3</th>\n",
              "      <td>3</td>\n",
              "      <td>ive been really angry with r and i feel like a...</td>\n",
              "      <td>anger</td>\n",
              "    </tr>\n",
              "    <tr>\n",
              "      <th>4</th>\n",
              "      <td>4</td>\n",
              "      <td>i feel suspicious if there is no one outside l...</td>\n",
              "      <td>neutral</td>\n",
              "    </tr>\n",
              "  </tbody>\n",
              "</table>\n",
              "</div>\n",
              "    <div class=\"colab-df-buttons\">\n",
              "\n",
              "  <div class=\"colab-df-container\">\n",
              "    <button class=\"colab-df-convert\" onclick=\"convertToInteractive('df-31965dc8-9d07-465e-94bb-ac78ea8a405b')\"\n",
              "            title=\"Convert this dataframe to an interactive table.\"\n",
              "            style=\"display:none;\">\n",
              "\n",
              "  <svg xmlns=\"http://www.w3.org/2000/svg\" height=\"24px\" viewBox=\"0 -960 960 960\">\n",
              "    <path d=\"M120-120v-720h720v720H120Zm60-500h600v-160H180v160Zm220 220h160v-160H400v160Zm0 220h160v-160H400v160ZM180-400h160v-160H180v160Zm440 0h160v-160H620v160ZM180-180h160v-160H180v160Zm440 0h160v-160H620v160Z\"/>\n",
              "  </svg>\n",
              "    </button>\n",
              "\n",
              "  <style>\n",
              "    .colab-df-container {\n",
              "      display:flex;\n",
              "      gap: 12px;\n",
              "    }\n",
              "\n",
              "    .colab-df-convert {\n",
              "      background-color: #E8F0FE;\n",
              "      border: none;\n",
              "      border-radius: 50%;\n",
              "      cursor: pointer;\n",
              "      display: none;\n",
              "      fill: #1967D2;\n",
              "      height: 32px;\n",
              "      padding: 0 0 0 0;\n",
              "      width: 32px;\n",
              "    }\n",
              "\n",
              "    .colab-df-convert:hover {\n",
              "      background-color: #E2EBFA;\n",
              "      box-shadow: 0px 1px 2px rgba(60, 64, 67, 0.3), 0px 1px 3px 1px rgba(60, 64, 67, 0.15);\n",
              "      fill: #174EA6;\n",
              "    }\n",
              "\n",
              "    .colab-df-buttons div {\n",
              "      margin-bottom: 4px;\n",
              "    }\n",
              "\n",
              "    [theme=dark] .colab-df-convert {\n",
              "      background-color: #3B4455;\n",
              "      fill: #D2E3FC;\n",
              "    }\n",
              "\n",
              "    [theme=dark] .colab-df-convert:hover {\n",
              "      background-color: #434B5C;\n",
              "      box-shadow: 0px 1px 3px 1px rgba(0, 0, 0, 0.15);\n",
              "      filter: drop-shadow(0px 1px 2px rgba(0, 0, 0, 0.3));\n",
              "      fill: #FFFFFF;\n",
              "    }\n",
              "  </style>\n",
              "\n",
              "    <script>\n",
              "      const buttonEl =\n",
              "        document.querySelector('#df-31965dc8-9d07-465e-94bb-ac78ea8a405b button.colab-df-convert');\n",
              "      buttonEl.style.display =\n",
              "        google.colab.kernel.accessAllowed ? 'block' : 'none';\n",
              "\n",
              "      async function convertToInteractive(key) {\n",
              "        const element = document.querySelector('#df-31965dc8-9d07-465e-94bb-ac78ea8a405b');\n",
              "        const dataTable =\n",
              "          await google.colab.kernel.invokeFunction('convertToInteractive',\n",
              "                                                    [key], {});\n",
              "        if (!dataTable) return;\n",
              "\n",
              "        const docLinkHtml = 'Like what you see? Visit the ' +\n",
              "          '<a target=\"_blank\" href=https://colab.research.google.com/notebooks/data_table.ipynb>data table notebook</a>'\n",
              "          + ' to learn more about interactive tables.';\n",
              "        element.innerHTML = '';\n",
              "        dataTable['output_type'] = 'display_data';\n",
              "        await google.colab.output.renderOutput(dataTable, element);\n",
              "        const docLink = document.createElement('div');\n",
              "        docLink.innerHTML = docLinkHtml;\n",
              "        element.appendChild(docLink);\n",
              "      }\n",
              "    </script>\n",
              "  </div>\n",
              "\n",
              "\n",
              "<div id=\"df-7b616fbe-9299-4a60-8d2d-eb527065fc7a\">\n",
              "  <button class=\"colab-df-quickchart\" onclick=\"quickchart('df-7b616fbe-9299-4a60-8d2d-eb527065fc7a')\"\n",
              "            title=\"Suggest charts\"\n",
              "            style=\"display:none;\">\n",
              "\n",
              "<svg xmlns=\"http://www.w3.org/2000/svg\" height=\"24px\"viewBox=\"0 0 24 24\"\n",
              "     width=\"24px\">\n",
              "    <g>\n",
              "        <path d=\"M19 3H5c-1.1 0-2 .9-2 2v14c0 1.1.9 2 2 2h14c1.1 0 2-.9 2-2V5c0-1.1-.9-2-2-2zM9 17H7v-7h2v7zm4 0h-2V7h2v10zm4 0h-2v-4h2v4z\"/>\n",
              "    </g>\n",
              "</svg>\n",
              "  </button>\n",
              "\n",
              "<style>\n",
              "  .colab-df-quickchart {\n",
              "      --bg-color: #E8F0FE;\n",
              "      --fill-color: #1967D2;\n",
              "      --hover-bg-color: #E2EBFA;\n",
              "      --hover-fill-color: #174EA6;\n",
              "      --disabled-fill-color: #AAA;\n",
              "      --disabled-bg-color: #DDD;\n",
              "  }\n",
              "\n",
              "  [theme=dark] .colab-df-quickchart {\n",
              "      --bg-color: #3B4455;\n",
              "      --fill-color: #D2E3FC;\n",
              "      --hover-bg-color: #434B5C;\n",
              "      --hover-fill-color: #FFFFFF;\n",
              "      --disabled-bg-color: #3B4455;\n",
              "      --disabled-fill-color: #666;\n",
              "  }\n",
              "\n",
              "  .colab-df-quickchart {\n",
              "    background-color: var(--bg-color);\n",
              "    border: none;\n",
              "    border-radius: 50%;\n",
              "    cursor: pointer;\n",
              "    display: none;\n",
              "    fill: var(--fill-color);\n",
              "    height: 32px;\n",
              "    padding: 0;\n",
              "    width: 32px;\n",
              "  }\n",
              "\n",
              "  .colab-df-quickchart:hover {\n",
              "    background-color: var(--hover-bg-color);\n",
              "    box-shadow: 0 1px 2px rgba(60, 64, 67, 0.3), 0 1px 3px 1px rgba(60, 64, 67, 0.15);\n",
              "    fill: var(--button-hover-fill-color);\n",
              "  }\n",
              "\n",
              "  .colab-df-quickchart-complete:disabled,\n",
              "  .colab-df-quickchart-complete:disabled:hover {\n",
              "    background-color: var(--disabled-bg-color);\n",
              "    fill: var(--disabled-fill-color);\n",
              "    box-shadow: none;\n",
              "  }\n",
              "\n",
              "  .colab-df-spinner {\n",
              "    border: 2px solid var(--fill-color);\n",
              "    border-color: transparent;\n",
              "    border-bottom-color: var(--fill-color);\n",
              "    animation:\n",
              "      spin 1s steps(1) infinite;\n",
              "  }\n",
              "\n",
              "  @keyframes spin {\n",
              "    0% {\n",
              "      border-color: transparent;\n",
              "      border-bottom-color: var(--fill-color);\n",
              "      border-left-color: var(--fill-color);\n",
              "    }\n",
              "    20% {\n",
              "      border-color: transparent;\n",
              "      border-left-color: var(--fill-color);\n",
              "      border-top-color: var(--fill-color);\n",
              "    }\n",
              "    30% {\n",
              "      border-color: transparent;\n",
              "      border-left-color: var(--fill-color);\n",
              "      border-top-color: var(--fill-color);\n",
              "      border-right-color: var(--fill-color);\n",
              "    }\n",
              "    40% {\n",
              "      border-color: transparent;\n",
              "      border-right-color: var(--fill-color);\n",
              "      border-top-color: var(--fill-color);\n",
              "    }\n",
              "    60% {\n",
              "      border-color: transparent;\n",
              "      border-right-color: var(--fill-color);\n",
              "    }\n",
              "    80% {\n",
              "      border-color: transparent;\n",
              "      border-right-color: var(--fill-color);\n",
              "      border-bottom-color: var(--fill-color);\n",
              "    }\n",
              "    90% {\n",
              "      border-color: transparent;\n",
              "      border-bottom-color: var(--fill-color);\n",
              "    }\n",
              "  }\n",
              "</style>\n",
              "\n",
              "  <script>\n",
              "    async function quickchart(key) {\n",
              "      const quickchartButtonEl =\n",
              "        document.querySelector('#' + key + ' button');\n",
              "      quickchartButtonEl.disabled = true;  // To prevent multiple clicks.\n",
              "      quickchartButtonEl.classList.add('colab-df-spinner');\n",
              "      try {\n",
              "        const charts = await google.colab.kernel.invokeFunction(\n",
              "            'suggestCharts', [key], {});\n",
              "      } catch (error) {\n",
              "        console.error('Error during call to suggestCharts:', error);\n",
              "      }\n",
              "      quickchartButtonEl.classList.remove('colab-df-spinner');\n",
              "      quickchartButtonEl.classList.add('colab-df-quickchart-complete');\n",
              "    }\n",
              "    (() => {\n",
              "      let quickchartButtonEl =\n",
              "        document.querySelector('#df-7b616fbe-9299-4a60-8d2d-eb527065fc7a button');\n",
              "      quickchartButtonEl.style.display =\n",
              "        google.colab.kernel.accessAllowed ? 'block' : 'none';\n",
              "    })();\n",
              "  </script>\n",
              "</div>\n",
              "\n",
              "    </div>\n",
              "  </div>\n"
            ],
            "application/vnd.google.colaboratory.intrinsic+json": {
              "type": "dataframe",
              "variable_name": "df"
            }
          },
          "metadata": {},
          "execution_count": 51
        }
      ]
    },
    {
      "cell_type": "code",
      "source": [
        "# Taking sentences and labels\n",
        "sentences = df['text'].tolist()\n",
        "labels = df['Emotion'].tolist()"
      ],
      "metadata": {
        "id": "e46rAPBznSkG"
      },
      "execution_count": 57,
      "outputs": []
    },
    {
      "cell_type": "code",
      "source": [
        "# Examples of sentences and labels, and number of sentences we have\n",
        "sentences[:5], labels[:5], len(sentences)"
      ],
      "metadata": {
        "colab": {
          "base_uri": "https://localhost:8080/"
        },
        "id": "UsYTY0-xm-qF",
        "outputId": "f38f5483-1fe3-46ff-b09f-63344d73ab17"
      },
      "execution_count": 61,
      "outputs": [
        {
          "output_type": "execute_result",
          "data": {
            "text/plain": [
              "(['i seriously hate one subject to death but now i feel reluctant to drop it',\n",
              "  'im so full of life i feel appalled',\n",
              "  'i sit here to write i start to dig out my feelings and i think that i am afraid to accept the possibility that he might not make it',\n",
              "  'ive been really angry with r and i feel like an idiot for trusting him in the first place',\n",
              "  'i feel suspicious if there is no one outside like the rapture has happened or something'],\n",
              " ['hate', 'neutral', 'neutral', 'anger', 'neutral'],\n",
              " 839555)"
            ]
          },
          "metadata": {},
          "execution_count": 61
        }
      ]
    },
    {
      "cell_type": "code",
      "source": [
        "from sklearn.model_selection import train_test_split\n",
        "\n",
        "# Taking 70% of the data as train data, temp values will be used again\n",
        "train_sentences, temp_sentences, train_labels, temp_labels = train_test_split(\n",
        "    sentences,\n",
        "    labels,\n",
        "    test_size=0.3,\n",
        "    stratify=labels\n",
        ")\n",
        "\n",
        "# temp values are divided into two part, that way 15% of the data is train data\n",
        "# and other 15% is test data\n",
        "val_sentences, test_sentences, val_labels, test_labels = train_test_split(\n",
        "    temp_sentences,\n",
        "    temp_labels,\n",
        "    test_size=0.5,\n",
        ")"
      ],
      "metadata": {
        "id": "u8lkE2ZjoqMc"
      },
      "execution_count": 63,
      "outputs": []
    },
    {
      "cell_type": "code",
      "source": [
        "# Initialize LabelEncoder\n",
        "label_encoder = LabelEncoder()\n",
        "\n",
        "# Fit the encoder and transform the labels to numerical values\n",
        "train_labels_encoded = label_encoder.fit_transform(train_labels)\n",
        "val_labels_encoded = label_encoder.transform(val_labels)\n",
        "test_labels_encoded = label_encoder.transform(test_labels)\n",
        "\n",
        "# Get the mapping of labels so we can use it when we want to visualize the\n",
        "# prediction of a model\n",
        "label_mapping = dict(zip(label_encoder.classes_, label_encoder.transform(label_encoder.classes_)))\n",
        "print(\"Label Mapping:\", label_mapping)"
      ],
      "metadata": {
        "colab": {
          "base_uri": "https://localhost:8080/"
        },
        "id": "kOQMeK6RHkQ_",
        "outputId": "5f93e225-c4f9-4b00-e167-76b8d5b59a9f"
      },
      "execution_count": 64,
      "outputs": [
        {
          "output_type": "stream",
          "name": "stdout",
          "text": [
            "Label Mapping: {'anger': 0, 'boredom': 1, 'empty': 2, 'enthusiasm': 3, 'fun': 4, 'happiness': 5, 'hate': 6, 'love': 7, 'neutral': 8, 'relief': 9, 'sadness': 10, 'surprise': 11, 'worry': 12}\n"
          ]
        }
      ]
    },
    {
      "cell_type": "code",
      "source": [
        "# Put our data in TensorFlow dataset to prefetch them later\n",
        "train_dataset = tf.data.Dataset.from_tensor_slices((train_sentences, train_labels_encoded))\n",
        "val_dataset = tf.data.Dataset.from_tensor_slices((val_sentences, val_labels_encoded))\n",
        "test_dataset = tf.data.Dataset.from_tensor_slices((test_sentences, test_labels_encoded))"
      ],
      "metadata": {
        "id": "VvDm7EQJH8gN"
      },
      "execution_count": 65,
      "outputs": []
    },
    {
      "cell_type": "code",
      "source": [
        "# Define batch size\n",
        "BATCH_SIZE = 32\n",
        "\n",
        "# Function to shuffle, batch and prefetch the data. That way, model will train\n",
        "# faster and more accurately\n",
        "def prepare_dataset(dataset, batch_size=BATCH_SIZE):\n",
        "    # Shuffle the dataset\n",
        "    dataset = dataset.shuffle(buffer_size=1000)\n",
        "\n",
        "    # Batch the dataset\n",
        "    dataset = dataset.batch(batch_size)\n",
        "\n",
        "    # Prefetch the dataset\n",
        "    dataset = dataset.prefetch(buffer_size=tf.data.AUTOTUNE)\n",
        "\n",
        "    return dataset\n",
        "\n",
        "# Prepare the datasets\n",
        "train_data = prepare_dataset(train_dataset)\n",
        "val_data = prepare_dataset(val_dataset)\n",
        "test_data = prepare_dataset(test_dataset)"
      ],
      "metadata": {
        "id": "jmHlL7jvH-Q8"
      },
      "execution_count": 66,
      "outputs": []
    },
    {
      "cell_type": "code",
      "source": [
        "from tensorflow.keras.layers import TextVectorization\n",
        "\n",
        "# Create a TextVectorization layer\n",
        "text_vectorizer = TextVectorization(max_tokens=None,\n",
        "                                    standardize=\"lower_and_strip_punctuation\",\n",
        "                                    split=\"whitespace\",\n",
        "                                    ngrams=None,\n",
        "                                    output_mode=\"int\", # Labels will be in\n",
        "                                    # integer form\n",
        "                                    output_sequence_length=None)"
      ],
      "metadata": {
        "id": "ruNlhVLOIU6c"
      },
      "execution_count": 68,
      "outputs": []
    },
    {
      "cell_type": "code",
      "source": [
        "# Calculate the number of words in each sentence\n",
        "word_counts = [len(sentence.split()) for sentence in train_sentences]\n",
        "\n",
        "# Calculate the average word count\n",
        "average_word_count = sum(word_counts) / len(word_counts)\n",
        "\n",
        "# Print the average word count\n",
        "print(\"Average word count per sentence:\", average_word_count)"
      ],
      "metadata": {
        "colab": {
          "base_uri": "https://localhost:8080/"
        },
        "id": "liYMDI0CLBpN",
        "outputId": "831d8c6e-641b-42c1-c862-d2609795ae5e"
      },
      "execution_count": 71,
      "outputs": [
        {
          "output_type": "stream",
          "name": "stdout",
          "text": [
            "Average word count per sentence: 19.21753379344142\n"
          ]
        }
      ]
    },
    {
      "cell_type": "code",
      "source": [
        "max_vocab_length = 10000 # Maximum number of words to have in vocabulary\n",
        "max_length = int(average_word_count) # max_length will be average number of\n",
        "# words in vocab\n",
        "\n",
        "text_vectorizer = TextVectorization(max_tokens=max_vocab_length,\n",
        "                                    output_mode=\"int\",\n",
        "                                    output_sequence_length=max_length)"
      ],
      "metadata": {
        "id": "WnPROMWRLqCH"
      },
      "execution_count": 72,
      "outputs": []
    },
    {
      "cell_type": "code",
      "source": [
        "text_vectorizer.adapt(train_sentences)# Adapting text vectorizer on train data"
      ],
      "metadata": {
        "id": "KjYU0llxNSUI"
      },
      "execution_count": 73,
      "outputs": []
    },
    {
      "cell_type": "code",
      "source": [
        "from tensorflow.keras import layers\n",
        "\n",
        "# Create an embedding layer\n",
        "embedding = layers.Embedding(input_dim=max_vocab_length,\n",
        "                             output_dim=128,\n",
        "                             embeddings_initializer=\"uniform\",\n",
        "                             input_length=max_length,\n",
        "                             name=\"embedding_1\")\n",
        "\n",
        "embedding"
      ],
      "metadata": {
        "colab": {
          "base_uri": "https://localhost:8080/"
        },
        "id": "qX2xLpvTdCcl",
        "outputId": "e0466a41-366c-4bf2-dfce-61fe710ffe98"
      },
      "execution_count": 74,
      "outputs": [
        {
          "output_type": "execute_result",
          "data": {
            "text/plain": [
              "<keras.src.layers.core.embedding.Embedding at 0x79d8c85995a0>"
            ]
          },
          "metadata": {},
          "execution_count": 74
        }
      ]
    },
    {
      "cell_type": "markdown",
      "source": [
        "## Model 0: Baseline Model"
      ],
      "metadata": {
        "id": "dTwAlBsQTWUl"
      }
    },
    {
      "cell_type": "code",
      "source": [
        "from sklearn.feature_extraction.text import TfidfVectorizer\n",
        "from sklearn.naive_bayes import MultinomialNB\n",
        "from sklearn.pipeline import Pipeline\n",
        "\n",
        "# Create baseline model\n",
        "model_0 = Pipeline([\n",
        "    (\"tfidf\", TfidfVectorizer()),\n",
        "    (\"clf\", MultinomialNB())\n",
        "])\n",
        "\n",
        "# Fit the baseline to the training data\n",
        "model_0.fit(train_sentences, train_labels)"
      ],
      "metadata": {
        "colab": {
          "base_uri": "https://localhost:8080/",
          "height": 125
        },
        "id": "lD0PaJ79eCAq",
        "outputId": "cdc822ce-35a5-42b0-e53a-42d4d69c8f1c"
      },
      "execution_count": 75,
      "outputs": [
        {
          "output_type": "execute_result",
          "data": {
            "text/plain": [
              "Pipeline(steps=[('tfidf', TfidfVectorizer()), ('clf', MultinomialNB())])"
            ],
            "text/html": [
              "<style>#sk-container-id-2 {color: black;}#sk-container-id-2 pre{padding: 0;}#sk-container-id-2 div.sk-toggleable {background-color: white;}#sk-container-id-2 label.sk-toggleable__label {cursor: pointer;display: block;width: 100%;margin-bottom: 0;padding: 0.3em;box-sizing: border-box;text-align: center;}#sk-container-id-2 label.sk-toggleable__label-arrow:before {content: \"▸\";float: left;margin-right: 0.25em;color: #696969;}#sk-container-id-2 label.sk-toggleable__label-arrow:hover:before {color: black;}#sk-container-id-2 div.sk-estimator:hover label.sk-toggleable__label-arrow:before {color: black;}#sk-container-id-2 div.sk-toggleable__content {max-height: 0;max-width: 0;overflow: hidden;text-align: left;background-color: #f0f8ff;}#sk-container-id-2 div.sk-toggleable__content pre {margin: 0.2em;color: black;border-radius: 0.25em;background-color: #f0f8ff;}#sk-container-id-2 input.sk-toggleable__control:checked~div.sk-toggleable__content {max-height: 200px;max-width: 100%;overflow: auto;}#sk-container-id-2 input.sk-toggleable__control:checked~label.sk-toggleable__label-arrow:before {content: \"▾\";}#sk-container-id-2 div.sk-estimator input.sk-toggleable__control:checked~label.sk-toggleable__label {background-color: #d4ebff;}#sk-container-id-2 div.sk-label input.sk-toggleable__control:checked~label.sk-toggleable__label {background-color: #d4ebff;}#sk-container-id-2 input.sk-hidden--visually {border: 0;clip: rect(1px 1px 1px 1px);clip: rect(1px, 1px, 1px, 1px);height: 1px;margin: -1px;overflow: hidden;padding: 0;position: absolute;width: 1px;}#sk-container-id-2 div.sk-estimator {font-family: monospace;background-color: #f0f8ff;border: 1px dotted black;border-radius: 0.25em;box-sizing: border-box;margin-bottom: 0.5em;}#sk-container-id-2 div.sk-estimator:hover {background-color: #d4ebff;}#sk-container-id-2 div.sk-parallel-item::after {content: \"\";width: 100%;border-bottom: 1px solid gray;flex-grow: 1;}#sk-container-id-2 div.sk-label:hover label.sk-toggleable__label {background-color: #d4ebff;}#sk-container-id-2 div.sk-serial::before {content: \"\";position: absolute;border-left: 1px solid gray;box-sizing: border-box;top: 0;bottom: 0;left: 50%;z-index: 0;}#sk-container-id-2 div.sk-serial {display: flex;flex-direction: column;align-items: center;background-color: white;padding-right: 0.2em;padding-left: 0.2em;position: relative;}#sk-container-id-2 div.sk-item {position: relative;z-index: 1;}#sk-container-id-2 div.sk-parallel {display: flex;align-items: stretch;justify-content: center;background-color: white;position: relative;}#sk-container-id-2 div.sk-item::before, #sk-container-id-2 div.sk-parallel-item::before {content: \"\";position: absolute;border-left: 1px solid gray;box-sizing: border-box;top: 0;bottom: 0;left: 50%;z-index: -1;}#sk-container-id-2 div.sk-parallel-item {display: flex;flex-direction: column;z-index: 1;position: relative;background-color: white;}#sk-container-id-2 div.sk-parallel-item:first-child::after {align-self: flex-end;width: 50%;}#sk-container-id-2 div.sk-parallel-item:last-child::after {align-self: flex-start;width: 50%;}#sk-container-id-2 div.sk-parallel-item:only-child::after {width: 0;}#sk-container-id-2 div.sk-dashed-wrapped {border: 1px dashed gray;margin: 0 0.4em 0.5em 0.4em;box-sizing: border-box;padding-bottom: 0.4em;background-color: white;}#sk-container-id-2 div.sk-label label {font-family: monospace;font-weight: bold;display: inline-block;line-height: 1.2em;}#sk-container-id-2 div.sk-label-container {text-align: center;}#sk-container-id-2 div.sk-container {/* jupyter's `normalize.less` sets `[hidden] { display: none; }` but bootstrap.min.css set `[hidden] { display: none !important; }` so we also need the `!important` here to be able to override the default hidden behavior on the sphinx rendered scikit-learn.org. See: https://github.com/scikit-learn/scikit-learn/issues/21755 */display: inline-block !important;position: relative;}#sk-container-id-2 div.sk-text-repr-fallback {display: none;}</style><div id=\"sk-container-id-2\" class=\"sk-top-container\"><div class=\"sk-text-repr-fallback\"><pre>Pipeline(steps=[(&#x27;tfidf&#x27;, TfidfVectorizer()), (&#x27;clf&#x27;, MultinomialNB())])</pre><b>In a Jupyter environment, please rerun this cell to show the HTML representation or trust the notebook. <br />On GitHub, the HTML representation is unable to render, please try loading this page with nbviewer.org.</b></div><div class=\"sk-container\" hidden><div class=\"sk-item sk-dashed-wrapped\"><div class=\"sk-label-container\"><div class=\"sk-label sk-toggleable\"><input class=\"sk-toggleable__control sk-hidden--visually\" id=\"sk-estimator-id-4\" type=\"checkbox\" ><label for=\"sk-estimator-id-4\" class=\"sk-toggleable__label sk-toggleable__label-arrow\">Pipeline</label><div class=\"sk-toggleable__content\"><pre>Pipeline(steps=[(&#x27;tfidf&#x27;, TfidfVectorizer()), (&#x27;clf&#x27;, MultinomialNB())])</pre></div></div></div><div class=\"sk-serial\"><div class=\"sk-item\"><div class=\"sk-estimator sk-toggleable\"><input class=\"sk-toggleable__control sk-hidden--visually\" id=\"sk-estimator-id-5\" type=\"checkbox\" ><label for=\"sk-estimator-id-5\" class=\"sk-toggleable__label sk-toggleable__label-arrow\">TfidfVectorizer</label><div class=\"sk-toggleable__content\"><pre>TfidfVectorizer()</pre></div></div></div><div class=\"sk-item\"><div class=\"sk-estimator sk-toggleable\"><input class=\"sk-toggleable__control sk-hidden--visually\" id=\"sk-estimator-id-6\" type=\"checkbox\" ><label for=\"sk-estimator-id-6\" class=\"sk-toggleable__label sk-toggleable__label-arrow\">MultinomialNB</label><div class=\"sk-toggleable__content\"><pre>MultinomialNB()</pre></div></div></div></div></div></div></div>"
            ]
          },
          "metadata": {},
          "execution_count": 75
        }
      ]
    },
    {
      "cell_type": "code",
      "source": [
        "# Calculate and print accuracy of baseline model, which we'll try to beat later\n",
        "baseline_score = model_0.score(val_sentences, val_labels)\n",
        "print(f\"Baseline model achieves accuracy of: {baseline_score*100:.2f}%\")"
      ],
      "metadata": {
        "colab": {
          "base_uri": "https://localhost:8080/"
        },
        "id": "zymxEmXDeMXo",
        "outputId": "c690dadd-eb59-441c-a158-c3603482fa2a"
      },
      "execution_count": 76,
      "outputs": [
        {
          "output_type": "stream",
          "name": "stdout",
          "text": [
            "Baseline model achieves accuracy of: 82.91%\n"
          ]
        }
      ]
    },
    {
      "cell_type": "markdown",
      "source": [
        "## Model 1: Basic Deep Learning Model"
      ],
      "metadata": {
        "id": "xzkAlbH5TbOC"
      }
    },
    {
      "cell_type": "code",
      "source": [
        "# Most basic deep learning model for this problem for starting small\n",
        "import tensorflow as tf\n",
        "from tensorflow.keras import layers\n",
        "inputs = layers.Input(shape=(1,), dtype=\"string\")\n",
        "x = text_vectorizer(inputs)\n",
        "x = embedding(x)\n",
        "x = layers.GlobalAveragePooling1D()(x)\n",
        "outputs = layers.Dense(13, activation=\"sigmoid\")(x)# Because we have 13 classes\n",
        "model_1 = tf.keras.Model(inputs, outputs, name=\"model_1_dense\")"
      ],
      "metadata": {
        "id": "Fe8jx4-YgDDp"
      },
      "execution_count": 80,
      "outputs": []
    },
    {
      "cell_type": "code",
      "source": [
        "# Compile the first deep learning model\n",
        "model_1.compile(loss=\"sparse_categorical_crossentropy\",# because labels are in\n",
        "                # integer form, loss is sparse categorical crossentropy\n",
        "                optimizer=tf.keras.optimizers.Adam(),# Using Adam as optimizer\n",
        "                # because it's safe\n",
        "                metrics=[\"accuracy\"])# using accuracy as metric because it's\n",
        "                # easy to understand"
      ],
      "metadata": {
        "id": "lfm8R97qiMu9"
      },
      "execution_count": 81,
      "outputs": []
    },
    {
      "cell_type": "markdown",
      "source": [
        "❗As described in the code, epoch numbers are not consistent. Reason of this is that I have limited time and processing units on Google Colab. I know that it's not fair to use different epochs for different models, but I've tried to fit them long enough for them to learn. Other than that, it mostly depends on the time that they take."
      ],
      "metadata": {
        "id": "gbBdrXXBWowB"
      }
    },
    {
      "cell_type": "code",
      "source": [
        "# Fit the first deep learning model\n",
        "model_1_history = model_1.fit(train_data,\n",
        "                              epochs=5,# Even if I've prefetched the data,\n",
        "                              # there's so many training data so epochs are\n",
        "                              # chosen how long they take (not fair, I know,\n",
        "                              # but I have limited time and processing unit on\n",
        "                              # colab)\n",
        "                              validation_data=val_data,\n",
        "                              callbacks=[tf.keras.callbacks.ModelCheckpoint(\n",
        "                                  filepath=\"model_1_dense\",\n",
        "                                            verbose=0,\n",
        "                                            save_best_only=True)])# Save only\n",
        "                                            # the best model for better results"
      ],
      "metadata": {
        "colab": {
          "base_uri": "https://localhost:8080/"
        },
        "id": "hiBT2kv7i9z0",
        "outputId": "bb7475fd-1d6c-4562-a9aa-ebc45889ca6c"
      },
      "execution_count": 83,
      "outputs": [
        {
          "output_type": "stream",
          "name": "stdout",
          "text": [
            "Epoch 1/5\n",
            "18366/18366 [==============================] - 135s 7ms/step - loss: 0.2463 - accuracy: 0.9539 - val_loss: 0.2116 - val_accuracy: 0.9604\n",
            "Epoch 2/5\n",
            "18366/18366 [==============================] - 138s 8ms/step - loss: 0.1917 - accuracy: 0.9612 - val_loss: 0.2034 - val_accuracy: 0.9620\n",
            "Epoch 3/5\n",
            "18366/18366 [==============================] - 139s 8ms/step - loss: 0.1775 - accuracy: 0.9624 - val_loss: 0.2013 - val_accuracy: 0.9625\n",
            "Epoch 4/5\n",
            "18366/18366 [==============================] - 140s 8ms/step - loss: 0.1702 - accuracy: 0.9632 - val_loss: 0.1997 - val_accuracy: 0.9627\n",
            "Epoch 5/5\n",
            "18366/18366 [==============================] - 139s 8ms/step - loss: 0.1659 - accuracy: 0.9637 - val_loss: 0.1990 - val_accuracy: 0.9627\n"
          ]
        }
      ]
    },
    {
      "cell_type": "code",
      "source": [
        "# Take the model that saved, which is the one with highest accuracy. Then\n",
        "# calculate and save the results to compare with other models later.\n",
        "model_1 = tf.keras.models.load_model(\"/content/model_1_dense\")\n",
        "model_1_results = model_1.evaluate(test_data)"
      ],
      "metadata": {
        "colab": {
          "base_uri": "https://localhost:8080/"
        },
        "id": "DgfeYIQdjIzn",
        "outputId": "f9a078cd-b5c7-407b-fe03-b78832e0d5cb"
      },
      "execution_count": 127,
      "outputs": [
        {
          "output_type": "stream",
          "name": "stdout",
          "text": [
            "3936/3936 [==============================] - 7s 2ms/step - loss: 0.2027 - accuracy: 0.9623\n"
          ]
        }
      ]
    },
    {
      "cell_type": "markdown",
      "source": [
        "## Model 2: LSTM"
      ],
      "metadata": {
        "id": "4F4iHAo5Tnu-"
      }
    },
    {
      "cell_type": "code",
      "source": [
        "# Create a new embedding layer, which is the same as the old one. Will do that\n",
        "# in every model that use our own embedding layer. Because if we use the same\n",
        "# embedding layer in a later model, it will use learned weights and it won't\n",
        "# be fair.\n",
        "model_2_embeddings = layers.Embedding(input_dim=max_vocab_length,\n",
        "                             output_dim=128,\n",
        "                             embeddings_initializer=\"uniform\",\n",
        "                             input_length=max_length,\n",
        "                             name=\"embedding_2\")\n",
        "\n",
        "# Create the second deep learning model. That's our first RNN model and we use\n",
        "# LSTM and dense layer.\n",
        "inputs = layers.Input((1,), dtype=\"string\")\n",
        "x = text_vectorizer(inputs)\n",
        "x = model_2_embeddings(x)\n",
        "x = layers.LSTM(256, return_sequences=True)(x)# If return_sequences isn't True,\n",
        "# another LSTM layer can't be used.\n",
        "x = layers.LSTM(256)(x)\n",
        "x = layers.Dense(64, activation=\"relu\")(x)\n",
        "outputs = layers.Dense(13, activation=\"sigmoid\")(x)# Because we have 13 classes\n",
        "\n",
        "model_2 = tf.keras.Model(inputs, outputs, name=\"model_2_LSTM\")\n",
        "\n",
        "# Compiling and fitting the model is the same as model_1\n",
        "model_2.compile(loss=\"sparse_categorical_crossentropy\",\n",
        "                optimizer=tf.keras.optimizers.Adam(),\n",
        "                metrics=[\"accuracy\"])\n",
        "\n",
        "model_2_history = model_2.fit(train_data,\n",
        "                              epochs=2,# Epochs is set to 2 because RNN models\n",
        "                              # take longer to train then dense model.\n",
        "                              validation_data=val_data,\n",
        "                              callbacks=[tf.keras.callbacks.ModelCheckpoint(filepath=model_2.name,\n",
        "                                            verbose=0,\n",
        "                                            save_best_only=True)])"
      ],
      "metadata": {
        "colab": {
          "base_uri": "https://localhost:8080/"
        },
        "id": "zxOvjlb9kvRj",
        "outputId": "b5a38c6f-287d-4617-cbbe-15e51ca63738"
      },
      "execution_count": 88,
      "outputs": [
        {
          "output_type": "stream",
          "name": "stdout",
          "text": [
            "Epoch 1/2\n",
            "18366/18366 [==============================] - 1296s 70ms/step - loss: 0.2615 - accuracy: 0.9490 - val_loss: 0.2076 - val_accuracy: 0.9618\n",
            "Epoch 2/2\n",
            "18366/18366 [==============================] - 1290s 70ms/step - loss: 0.1982 - accuracy: 0.9616 - val_loss: 0.1996 - val_accuracy: 0.9624\n"
          ]
        }
      ]
    },
    {
      "cell_type": "code",
      "source": [
        "# Take the model that saved, which is the one with highest accuracy. Then\n",
        "# calculate and save the results to compare with other models later.\n",
        "model_2 = tf.keras.models.load_model(\"/content/model_2_LSTM\")\n",
        "model_2_results = model_2.evaluate(test_data)"
      ],
      "metadata": {
        "colab": {
          "base_uri": "https://localhost:8080/"
        },
        "id": "uB3tX5phzKal",
        "outputId": "34097747-77e9-4f9e-dae3-84b3987904d4"
      },
      "execution_count": 128,
      "outputs": [
        {
          "output_type": "stream",
          "name": "stdout",
          "text": [
            "3936/3936 [==============================] - 103s 26ms/step - loss: 0.2031 - accuracy: 0.9619\n"
          ]
        }
      ]
    },
    {
      "cell_type": "markdown",
      "source": [
        "## Model 3: GRU"
      ],
      "metadata": {
        "id": "cumwMrJQTsd4"
      }
    },
    {
      "cell_type": "code",
      "source": [
        "# Create a new embedding layer, which is the same as the old one. Will do that\n",
        "# in every model that use our own embedding layer. Because if we use the same\n",
        "# embedding layer in a later model, it will use learned weights and it won't\n",
        "# be fair.\n",
        "model_3_embeddings = layers.Embedding(input_dim=max_vocab_length,\n",
        "                                      output_dim=128,\n",
        "                                      embeddings_initializer=\"uniform\",\n",
        "                                      input_length=max_length,\n",
        "                                      name=\"embedding_3\")\n",
        "\n",
        "# Third model is focused on GRU layers.\n",
        "inputs = layers.Input((1,), dtype=\"string\")\n",
        "x = text_vectorizer(inputs)\n",
        "x = model_3_embeddings(x)\n",
        "x = layers.GRU(256, return_sequences=True)(x)# Like LSTM, if return_sequences\n",
        "# isn't set to True, GRU layers can't be stacked\n",
        "x = layers.GRU(256)(x)\n",
        "x = layers.Dense(64, activation=\"relu\")(x)\n",
        "outputs = layers.Dense(13, activation=\"sigmoid\")(x)\n",
        "\n",
        "model_3 = tf.keras.Model(inputs, outputs, name=\"model_3_GRU\")\n",
        "\n",
        "# Compiling and fitting the model is the same as model_1\n",
        "model_3.compile(loss=\"sparse_categorical_crossentropy\",\n",
        "                optimizer=tf.keras.optimizers.Adam(),\n",
        "                metrics=[\"accuracy\"])\n",
        "\n",
        "model_3_history = model_3.fit(train_data,\n",
        "                              epochs=2,# Epochs is set to 2 because RNN models\n",
        "                              # take longer to train then dense model.\n",
        "                              validation_data=val_data,\n",
        "                              callbacks=[tf.keras.callbacks.ModelCheckpoint(filepath=model_3.name,\n",
        "                                                                            verbose=0,\n",
        "                                                                            save_best_only=True)])"
      ],
      "metadata": {
        "colab": {
          "base_uri": "https://localhost:8080/"
        },
        "id": "aIrocAKSI4uz",
        "outputId": "7238b270-6a1b-41c4-dcf4-daf7524504b1"
      },
      "execution_count": 91,
      "outputs": [
        {
          "output_type": "stream",
          "name": "stdout",
          "text": [
            "Epoch 1/2\n",
            "18366/18366 [==============================] - 1061s 58ms/step - loss: 0.2419 - accuracy: 0.9549 - val_loss: 0.2084 - val_accuracy: 0.9622\n",
            "Epoch 2/2\n",
            "18366/18366 [==============================] - 1059s 58ms/step - loss: 0.2017 - accuracy: 0.9616 - val_loss: 0.2016 - val_accuracy: 0.9623\n"
          ]
        }
      ]
    },
    {
      "cell_type": "code",
      "source": [
        "# Take the model that saved, which is the one with highest accuracy. Then\n",
        "# calculate and save the results to compare with other models later.\n",
        "model_3 = tf.keras.models.load_model(\"/content/model_3_GRU\")\n",
        "model_3_results = model_3.evaluate(test_data)"
      ],
      "metadata": {
        "colab": {
          "base_uri": "https://localhost:8080/"
        },
        "id": "_DrcXFdnLI82",
        "outputId": "28ab21a9-4980-4f87-fe7a-62ba650643ea"
      },
      "execution_count": 129,
      "outputs": [
        {
          "output_type": "stream",
          "name": "stdout",
          "text": [
            "3936/3936 [==============================] - 79s 20ms/step - loss: 0.2049 - accuracy: 0.9619\n"
          ]
        }
      ]
    },
    {
      "cell_type": "markdown",
      "source": [
        "##Model 4: Bidirectional LSTM"
      ],
      "metadata": {
        "id": "YzvqgVJ1TvdU"
      }
    },
    {
      "cell_type": "code",
      "source": [
        "# Create a new embedding layer, which is the same as the old one. Will do that\n",
        "# in every model that use our own embedding layer. Because if we use the same\n",
        "# embedding layer in a later model, it will use learned weights and it won't\n",
        "# be fair.\n",
        "model_4_embedding = layers.Embedding(input_dim=max_vocab_length,\n",
        "                                      output_dim=128,\n",
        "                                      embeddings_initializer=\"uniform\",\n",
        "                                      input_length=max_length,\n",
        "                                      name=\"embedding_4\")\n",
        "\n",
        "# Fourth model is focused on Bidirecional layer. If we take a look, we can see\n",
        "# that LSTM model performed slightly better than GRU model. That's why I've\n",
        "# used LSTM layer for Bidirectional model. Normally I use 2 RNN layers, but\n",
        "# bidirectional layers goes and comes back from the layer so I've used 1.\n",
        "inputs = layers.Input((1,), dtype=\"string\")\n",
        "x = text_vectorizer(inputs)\n",
        "x = model_4_embedding(x)\n",
        "x = layers.Bidirectional(layers.LSTM(256))(x)\n",
        "x = layers.Dense(64, activation=\"relu\")(x)\n",
        "outputs = layers.Dense(13, activation=\"sigmoid\")(x)\n",
        "\n",
        "model_4 = tf.keras.Model(inputs, outputs, name=\"model_4_bidirectional\")\n",
        "\n",
        "# Compiling and fitting the model is the same as model_1\n",
        "model_4.compile(loss=\"sparse_categorical_crossentropy\",\n",
        "                optimizer=tf.keras.optimizers.Adam(),\n",
        "                metrics=[\"accuracy\"])\n",
        "\n",
        "model_4_history = model_4.fit(train_data,\n",
        "                              epochs=2,# Epochs is set to 2 because RNN models\n",
        "                              # take longer to train then dense model.\n",
        "                              validation_data=val_data,\n",
        "                              callbacks=[tf.keras.callbacks.ModelCheckpoint(filepath=model_4.name,\n",
        "                                                                            verbose=0,\n",
        "                                                                            save_best_only=True)])"
      ],
      "metadata": {
        "colab": {
          "base_uri": "https://localhost:8080/"
        },
        "id": "3Boz5bAHTXml",
        "outputId": "df2e0ee9-be26-4a2d-ca85-5e10ffd1954c"
      },
      "execution_count": 94,
      "outputs": [
        {
          "output_type": "stream",
          "name": "stdout",
          "text": [
            "Epoch 1/2\n",
            "18366/18366 [==============================] - 796s 43ms/step - loss: 0.2543 - accuracy: 0.9502 - val_loss: 0.2056 - val_accuracy: 0.9618\n",
            "Epoch 2/2\n",
            "18366/18366 [==============================] - 791s 43ms/step - loss: 0.1882 - accuracy: 0.9623 - val_loss: 0.1939 - val_accuracy: 0.9626\n"
          ]
        }
      ]
    },
    {
      "cell_type": "code",
      "source": [
        "# Take the model that saved, which is the one with highest accuracy. Then\n",
        "# calculate and save the results to compare with other models later.\n",
        "model_4 = tf.keras.models.load_model(\"/content/model_4_bidirectional\")\n",
        "model_4_results = model_4.evaluate(test_data)"
      ],
      "metadata": {
        "colab": {
          "base_uri": "https://localhost:8080/"
        },
        "id": "a750yaewU8j6",
        "outputId": "8eb033eb-22c2-4288-be07-6fbb4cff16f1"
      },
      "execution_count": 130,
      "outputs": [
        {
          "output_type": "stream",
          "name": "stdout",
          "text": [
            "3936/3936 [==============================] - 59s 15ms/step - loss: 0.1968 - accuracy: 0.9620\n"
          ]
        }
      ]
    },
    {
      "cell_type": "markdown",
      "source": [
        "## Model 5: Transfer Learning"
      ],
      "metadata": {
        "id": "WO-OdMIXT5Ek"
      }
    },
    {
      "source": [
        "# This model is different from the others. We will use transfer learning,\n",
        "# encoding sentences is done with a pretrained model, Universal Sentence\n",
        "# Encoder.\n",
        "import tensorflow_hub as hub\n",
        "import tensorflow as tf\n",
        "from tensorflow.keras import layers\n",
        "\n",
        "# Get Universal Sentence Encoder as TensorFlow layer\n",
        "sentence_encoder_layer = hub.KerasLayer(\"https://tfhub.dev/google/universal-sentence-encoder/4\",\n",
        "                                        input_shape=[],\n",
        "                                        dtype=tf.string,\n",
        "                                        trainable=False,\n",
        "                                        name=\"UniversalSentenceEncoder\")\n",
        "\n",
        "# Create the model with pretrained sentence enccoder. I've used Bidirectional\n",
        "# layer with it, because it's the best performing one so far.\n",
        "inputs = layers.Input((), dtype=\"string\")\n",
        "x = sentence_encoder_layer(inputs)\n",
        "# Reshape the output to be 3D for the LSTM layer\n",
        "x = tf.expand_dims(x, axis=1)\n",
        "x = layers.Bidirectional(layers.LSTM(256))(x)\n",
        "x = layers.Dense(64, activation=\"relu\")(x)\n",
        "outputs = layers.Dense(13, activation=\"sigmoid\")(x)\n",
        "\n",
        "model_5 = tf.keras.Model(inputs, outputs, name=\"model_5_tinybert\")\n",
        "\n",
        "# Compiling and fitting the model is the same as model_1\n",
        "model_5.compile(loss=\"sparse_categorical_crossentropy\",\n",
        "                optimizer=tf.keras.optimizers.Adam(),\n",
        "                metrics=[\"accuracy\"])\n",
        "\n",
        "model_5_history = model_5.fit(train_data,\n",
        "                              epochs=8,# Epochs is set to 8, because it takes\n",
        "                              # less time to train per epoch. That's because\n",
        "                              # encoding layer isn't learning (trainable=False).\n",
        "                              validation_data=val_data,\n",
        "                              callbacks=[tf.keras.callbacks.ModelCheckpoint(filepath=model_5.name,\n",
        "                                                                            verbose=0,\n",
        "                                                                            save_best_only=True)])"
      ],
      "cell_type": "code",
      "metadata": {
        "colab": {
          "base_uri": "https://localhost:8080/"
        },
        "id": "bmmHGIteo4Ui",
        "outputId": "33b3ed2b-4162-41b8-bd2a-5d59ad32a7f2"
      },
      "execution_count": 122,
      "outputs": [
        {
          "output_type": "stream",
          "name": "stdout",
          "text": [
            "Epoch 1/8\n",
            "18366/18366 [==============================] - 304s 16ms/step - loss: 0.4112 - accuracy: 0.8799 - val_loss: 0.3430 - val_accuracy: 0.8963\n",
            "Epoch 2/8\n",
            "18366/18366 [==============================] - 298s 16ms/step - loss: 0.3050 - accuracy: 0.9070 - val_loss: 0.2957 - val_accuracy: 0.9101\n",
            "Epoch 3/8\n",
            "18366/18366 [==============================] - 301s 16ms/step - loss: 0.2439 - accuracy: 0.9245 - val_loss: 0.2612 - val_accuracy: 0.9209\n",
            "Epoch 4/8\n",
            "18366/18366 [==============================] - 296s 16ms/step - loss: 0.1894 - accuracy: 0.9411 - val_loss: 0.2397 - val_accuracy: 0.9307\n",
            "Epoch 5/8\n",
            "18366/18366 [==============================] - 297s 16ms/step - loss: 0.1423 - accuracy: 0.9563 - val_loss: 0.2224 - val_accuracy: 0.9377\n",
            "Epoch 6/8\n",
            "18366/18366 [==============================] - 282s 15ms/step - loss: 0.1045 - accuracy: 0.9681 - val_loss: 0.2245 - val_accuracy: 0.9425\n",
            "Epoch 7/8\n",
            "18366/18366 [==============================] - 282s 15ms/step - loss: 0.0754 - accuracy: 0.9773 - val_loss: 0.2302 - val_accuracy: 0.9460\n",
            "Epoch 8/8\n",
            "18366/18366 [==============================] - 282s 15ms/step - loss: 0.0553 - accuracy: 0.9831 - val_loss: 0.2389 - val_accuracy: 0.9525\n"
          ]
        }
      ]
    },
    {
      "cell_type": "code",
      "source": [
        "# Take the model that saved, which is the one with highest accuracy. Then\n",
        "# calculate and save the results to compare with other models later.\n",
        "model_5 = tf.keras.models.load_model(\"/content/model_5_tinybert\")\n",
        "model_5_results = model_5.evaluate(test_data)"
      ],
      "metadata": {
        "colab": {
          "base_uri": "https://localhost:8080/"
        },
        "id": "_7kVFqxmfn5T",
        "outputId": "c78112f1-fd91-4736-d2e5-01127288c072"
      },
      "execution_count": 124,
      "outputs": [
        {
          "output_type": "stream",
          "name": "stdout",
          "text": [
            "3936/3936 [==============================] - 35s 8ms/step - loss: 0.2247 - accuracy: 0.9374\n"
          ]
        },
        {
          "output_type": "execute_result",
          "data": {
            "text/plain": [
              "[0.2246769219636917, 0.9374037384986877]"
            ]
          },
          "metadata": {},
          "execution_count": 124
        }
      ]
    },
    {
      "cell_type": "markdown",
      "source": [
        "## Visualizing the performance of the models"
      ],
      "metadata": {
        "id": "U5TYfOAST9dH"
      }
    },
    {
      "cell_type": "code",
      "source": [
        "# Visualize loss and accuracy parameters.\n",
        "import matplotlib.pyplot as plt\n",
        "\n",
        "# Name the models.\n",
        "models = [\"Model 1 (Dense)\", \"Model 2 (LSTM)\", \"Model 3 (GRU)\", \"Model 4\\n(Bidirectional)\", \"Model 5 (TinyBERT)\"]\n",
        "x = range(len(models))# X-axis positions\n",
        "\n",
        "# Use evaluated loss and accuracies to visualize.\n",
        "losses = [model_1_results[0], model_2_results[0], model_3_results[0], model_4_results[0], model_5_results[0]]\n",
        "accuracies = [model_1_results[1], model_2_results[1], model_3_results[1], model_4_results[1], model_5_results[1]]\n",
        "\n",
        "fig, axs = plt.subplots(1, 2, figsize=(14, 6))\n",
        "\n",
        "# Plot models\n",
        "axs[0].bar(models, accuracies, color='r', alpha=0.7)\n",
        "axs[0].set_xlabel('Models')\n",
        "axs[0].set_ylabel('Accuracy')\n",
        "axs[0].set_title('Accuracy of Variables')\n",
        "axs[0].set_ylim(0, 1)# Accuracy ranges from 0 to 1\n",
        "\n",
        "# Plot losses\n",
        "axs[1].bar(models, losses, color='b', alpha=0.7)\n",
        "axs[1].set_xlabel('Variables')\n",
        "axs[1].set_ylabel('Loss')\n",
        "axs[1].set_title('Loss of Variables')\n",
        "axs[1].set_ylim(0, max(losses) + 0.1)# Adjust y-axis limit to fit the data\n",
        "\n",
        "# Adjust layout\n",
        "plt.tight_layout()\n",
        "\n",
        "# Show plots\n",
        "plt.show()"
      ],
      "metadata": {
        "colab": {
          "base_uri": "https://localhost:8080/",
          "height": 607
        },
        "id": "N6-b7vG17IgR",
        "outputId": "9a16691a-2ac4-464a-f9cc-91f2e1663ba4"
      },
      "execution_count": 140,
      "outputs": [
        {
          "output_type": "display_data",
          "data": {
            "text/plain": [
              "<Figure size 1400x600 with 2 Axes>"
            ],
            "image/png": "[encoded data removed]"
          },
          "metadata": {}
        }
      ]
    },
    {
      "cell_type": "markdown",
      "source": [
        "## Example usage on an example sentence"
      ],
      "metadata": {
        "id": "M1jsWxiHUIau"
      }
    },
    {
      "cell_type": "code",
      "source": [
        "# Example of how model predicts the emotion of a sentence.\n",
        "example_sentence = \"Could it be that you love me?\"# I've used a message that my\n",
        "# girlfriend sent me as an example.\n",
        "prediction = model_4.predict([example_sentence])# It can be seen that model_4\n",
        "# is the best among those models, that's why I'm using it to make a prediction.\n",
        "predicted_class_index = tf.argmax(prediction, axis=1)[0]# get the predicted\n",
        "# label in numerical form.\n",
        "index_to_label = {v: k for k, v in label_mapping.items()}# When encoding labels,\n",
        "# I said that we'll use the dictionary later. That's where we're using it.\n",
        "predicted_label = index_to_label[predicted_class_index.numpy()]# Get the\n",
        "# predicted class.\n",
        "print(f\"The predicted label for the sentence is: {predicted_label}\")# Print the\n",
        "# predicted class. As you can see, model works fine, it predicted right\n",
        "# emotion."
      ],
      "metadata": {
        "colab": {
          "base_uri": "https://localhost:8080/"
        },
        "id": "_yPuBFriEWGF",
        "outputId": "258b910b-702d-4b20-d06f-748f51cace15"
      },
      "execution_count": 148,
      "outputs": [
        {
          "output_type": "stream",
          "name": "stdout",
          "text": [
            "1/1 [==============================] - 0s 56ms/step\n",
            "The predicted label for the sentence is: love\n"
          ]
        }
      ]
    }
  ]
}